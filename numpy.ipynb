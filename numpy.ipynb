{
  "nbformat": 4,
  "nbformat_minor": 0,
  "metadata": {
    "colab": {
      "provenance": []
    },
    "kernelspec": {
      "name": "python3",
      "display_name": "Python 3"
    },
    "language_info": {
      "name": "python"
    }
  },
  "cells": [
    {
      "cell_type": "code",
      "execution_count": null,
      "metadata": {
        "colab": {
          "base_uri": "https://localhost:8080/"
        },
        "id": "8Wlv99QEoTcQ",
        "outputId": "a0562c5f-fce0-4754-f48c-a232695a6c32"
      },
      "outputs": [
        {
          "output_type": "execute_result",
          "data": {
            "text/plain": [
              "array([1, 2, 3, 4, 5])"
            ]
          },
          "metadata": {},
          "execution_count": 3
        }
      ],
      "source": [
        "########Thư viện numpy\n",
        "#####Numpy cơ bản\n",
        "import numpy as np\n",
        "np.array([1,2,3,4,5])"
      ]
    },
    {
      "cell_type": "markdown",
      "source": [
        "                                                 **Numpy Cơ bản**"
      ],
      "metadata": {
        "id": "6Rok3Sgt8z4S"
      }
    },
    {
      "cell_type": "code",
      "source": [
        "[3.14,4,5,6,7]"
      ],
      "metadata": {
        "colab": {
          "base_uri": "https://localhost:8080/"
        },
        "id": "-4Hb-UdGsOCp",
        "outputId": "93c728f5-2d78-4274-f72c-1be77a3b72c8"
      },
      "execution_count": null,
      "outputs": [
        {
          "output_type": "execute_result",
          "data": {
            "text/plain": [
              "[3.14, 4, 5, 6, 7]"
            ]
          },
          "metadata": {},
          "execution_count": 4
        }
      ]
    },
    {
      "cell_type": "code",
      "source": [
        "np.array([1.45,2,3,4,5]) # khi có một hay nhiều phần tử thuộc float thì nó sẽ chuyển tất cả snag float"
      ],
      "metadata": {
        "colab": {
          "base_uri": "https://localhost:8080/"
        },
        "id": "r5jbhsQNsiRa",
        "outputId": "23978492-1338-4774-b7b5-86deb4e55508"
      },
      "execution_count": null,
      "outputs": [
        {
          "output_type": "execute_result",
          "data": {
            "text/plain": [
              "array([1.45, 2.  , 3.  , 4.  , 5.  ])"
            ]
          },
          "metadata": {},
          "execution_count": 5
        }
      ]
    },
    {
      "cell_type": "code",
      "source": [
        "#cách chuyển dạng data từ interger thành float\n",
        "np.array([1,2,3,4,5],dtype='float32')"
      ],
      "metadata": {
        "colab": {
          "base_uri": "https://localhost:8080/"
        },
        "id": "uiuYOA3Ds8yQ",
        "outputId": "e9f3ca69-e074-48b4-8f70-4e66294dd591"
      },
      "execution_count": null,
      "outputs": [
        {
          "output_type": "execute_result",
          "data": {
            "text/plain": [
              "array([1., 2., 3., 4., 5.], dtype=float32)"
            ]
          },
          "metadata": {},
          "execution_count": 6
        }
      ]
    },
    {
      "cell_type": "code",
      "source": [
        "#chuyển float sang interger\n",
        "a = np.array([1.1, 2.1, 3.1])\n",
        "\n",
        "b = arr.astype('int64')\n",
        "\n",
        "print(b)\n",
        "print(b.dtype)"
      ],
      "metadata": {
        "colab": {
          "base_uri": "https://localhost:8080/"
        },
        "id": "q1ERUNz06J1p",
        "outputId": "a2d1e3f8-852d-4809-fee0-e9ab40e3465f"
      },
      "execution_count": null,
      "outputs": [
        {
          "output_type": "stream",
          "name": "stdout",
          "text": [
            "[1 2 3]\n",
            "int64\n"
          ]
        }
      ]
    },
    {
      "cell_type": "code",
      "source": [
        "#số dòng , số cột\n",
        "a1=np.array([[[[1,2,3,4,5],\n",
        "               [6,7,8,9,10],\n",
        "               [1,2,3,4,5],\n",
        "               [6,7,8,9,10]]]])\n",
        "a1.shape"
      ],
      "metadata": {
        "colab": {
          "base_uri": "https://localhost:8080/"
        },
        "id": "iy5Y1aHTtIfu",
        "outputId": "9b1013f6-474c-4a76-e2da-c61e6fda2797"
      },
      "execution_count": null,
      "outputs": [
        {
          "output_type": "execute_result",
          "data": {
            "text/plain": [
              "(1, 1, 4, 5)"
            ]
          },
          "metadata": {},
          "execution_count": 18
        }
      ]
    },
    {
      "cell_type": "code",
      "source": [
        "a = np.array(42)\n",
        "b = np.array([1, 2, 3, 4, 5])\n",
        "c = np.array([[1, 2, 3], [4, 5, 6]])\n",
        "d = np.array([[[1, 2, 3], [4, 5, 6]], [[1, 2, 3], [4, 5, 6]]])\n",
        "\n",
        "print(a.shape)\n",
        "print(b.shape)\n",
        "print(c.shape)\n",
        "print(d.shape)\n"
      ],
      "metadata": {
        "colab": {
          "base_uri": "https://localhost:8080/"
        },
        "id": "KmybR6rd1dMf",
        "outputId": "57850a75-0962-499f-b9e3-8c855cc376a4"
      },
      "execution_count": null,
      "outputs": [
        {
          "output_type": "stream",
          "name": "stdout",
          "text": [
            "()\n",
            "(5,)\n",
            "(2, 3)\n",
            "(2, 2, 3)\n"
          ]
        }
      ]
    },
    {
      "cell_type": "code",
      "source": [
        "\n",
        "print(a.ndim)\n",
        "print(b.ndim)\n",
        "print(c.ndim)\n",
        "print(d.ndim)\n"
      ],
      "metadata": {
        "colab": {
          "base_uri": "https://localhost:8080/"
        },
        "id": "n0pwPVOV1TGo",
        "outputId": "fb64cde2-dd62-45ed-cd0a-521c0ce1720b"
      },
      "execution_count": null,
      "outputs": [
        {
          "output_type": "stream",
          "name": "stdout",
          "text": [
            "0\n",
            "1\n",
            "2\n",
            "3\n"
          ]
        }
      ]
    },
    {
      "cell_type": "code",
      "source": [
        "#số mảng\n",
        "a1.ndim"
      ],
      "metadata": {
        "colab": {
          "base_uri": "https://localhost:8080/"
        },
        "id": "TZe6Kkg6tIiG",
        "outputId": "35450821-db36-42c2-b4e9-7b2541b23050"
      },
      "execution_count": null,
      "outputs": [
        {
          "output_type": "execute_result",
          "data": {
            "text/plain": [
              "4"
            ]
          },
          "metadata": {},
          "execution_count": 19
        }
      ]
    },
    {
      "cell_type": "code",
      "source": [
        "#tông các thành phần\n",
        "a1.size"
      ],
      "metadata": {
        "colab": {
          "base_uri": "https://localhost:8080/"
        },
        "id": "gYyZYU_RtIku",
        "outputId": "98b0e175-a5b3-4c18-9d02-b4bb1c798675"
      },
      "execution_count": null,
      "outputs": [
        {
          "output_type": "execute_result",
          "data": {
            "text/plain": [
              "20"
            ]
          },
          "metadata": {},
          "execution_count": 20
        }
      ]
    },
    {
      "cell_type": "code",
      "source": [
        "#Cách tạo numpy array từ các hàm có sẵn  zeros,ones,arange,full,linspace"
      ],
      "metadata": {
        "id": "YshSjKsjyI2R"
      },
      "execution_count": null,
      "outputs": []
    },
    {
      "cell_type": "code",
      "source": [
        "#np.zeros([2,4]) #định dạng ban đầu là float\n",
        "np.zeros([2,4],dtype=int)  #thay đổi định dạng"
      ],
      "metadata": {
        "colab": {
          "base_uri": "https://localhost:8080/"
        },
        "id": "ODNuxuYLyI5C",
        "outputId": "73a5cd24-faa3-41ba-8586-9cbc010490b5"
      },
      "execution_count": null,
      "outputs": [
        {
          "output_type": "execute_result",
          "data": {
            "text/plain": [
              "array([[0, 0, 0, 0],\n",
              "       [0, 0, 0, 0]])"
            ]
          },
          "metadata": {},
          "execution_count": 22
        }
      ]
    },
    {
      "cell_type": "code",
      "source": [
        "np.ones((3,5),dtype=int)"
      ],
      "metadata": {
        "colab": {
          "base_uri": "https://localhost:8080/"
        },
        "id": "hqM4DXslyZbh",
        "outputId": "c626afc1-9e89-40a7-cd68-7f9cac387589"
      },
      "execution_count": null,
      "outputs": [
        {
          "output_type": "execute_result",
          "data": {
            "text/plain": [
              "array([[1, 1, 1, 1, 1],\n",
              "       [1, 1, 1, 1, 1],\n",
              "       [1, 1, 1, 1, 1]])"
            ]
          },
          "metadata": {},
          "execution_count": 24
        }
      ]
    },
    {
      "cell_type": "code",
      "source": [
        "#Tạo mảng bắt từ từ 0 , kết thúc 20 và cách nhau 2 step\n",
        "np.arange(0,20,2)"
      ],
      "metadata": {
        "colab": {
          "base_uri": "https://localhost:8080/"
        },
        "id": "JGcb6JCbyZei",
        "outputId": "58fcd770-c0d1-4f52-c698-cca11ee33f58"
      },
      "execution_count": null,
      "outputs": [
        {
          "output_type": "execute_result",
          "data": {
            "text/plain": [
              "array([ 0,  2,  4,  6,  8, 10, 12, 14, 16, 18])"
            ]
          },
          "metadata": {},
          "execution_count": 25
        }
      ]
    },
    {
      "cell_type": "code",
      "source": [
        "#mảng full theo số mình muốn \n",
        "np.full((3,5),10)"
      ],
      "metadata": {
        "colab": {
          "base_uri": "https://localhost:8080/"
        },
        "id": "9luX3ZlLyZhY",
        "outputId": "45b18a38-b5d4-45a1-ef35-15e8ba703911"
      },
      "execution_count": null,
      "outputs": [
        {
          "output_type": "execute_result",
          "data": {
            "text/plain": [
              "array([[10, 10, 10, 10, 10],\n",
              "       [10, 10, 10, 10, 10],\n",
              "       [10, 10, 10, 10, 10]])"
            ]
          },
          "metadata": {},
          "execution_count": 27
        }
      ]
    },
    {
      "cell_type": "code",
      "source": [
        "from numpy.core.function_base import linspace\n",
        "#tạo 1 array nằm trong khoảng từ 0 tới 1\n",
        "np.linspace(0,1,5)"
      ],
      "metadata": {
        "colab": {
          "base_uri": "https://localhost:8080/"
        },
        "id": "Y-C3b8D1yZko",
        "outputId": "43c35066-9558-46f9-8123-bda63cc85fd9"
      },
      "execution_count": null,
      "outputs": [
        {
          "output_type": "execute_result",
          "data": {
            "text/plain": [
              "array([0.  , 0.25, 0.5 , 0.75, 1.  ])"
            ]
          },
          "metadata": {},
          "execution_count": 30
        }
      ]
    },
    {
      "cell_type": "markdown",
      "source": [
        "![Ảnh chụp màn hình_20230130_093510.png](data:image/png;base64,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)"
      ],
      "metadata": {
        "id": "njDCVHGQGqL6"
      }
    },
    {
      "cell_type": "code",
      "source": [
        "# Các phép tính trên mảng\n",
        "#Cộng các phần tử trong mảng  , các mảng bắt đầu từ 0->n\n",
        "arr = np.array([1, 2, 3, 4])\n",
        "print(arr[2] + arr[3]) #3+4=7"
      ],
      "metadata": {
        "colab": {
          "base_uri": "https://localhost:8080/"
        },
        "id": "d7CHYZRVyZnk",
        "outputId": "257ef628-956b-443d-decb-91337eeb06bb"
      },
      "execution_count": null,
      "outputs": [
        {
          "output_type": "stream",
          "name": "stdout",
          "text": [
            "7\n"
          ]
        }
      ]
    },
    {
      "cell_type": "code",
      "source": [
        "q = np.array([1, 2, 3,4])\n",
        "q+5"
      ],
      "metadata": {
        "id": "ScOr1xcXDYnN",
        "outputId": "da6b1bd9-de6a-481e-ab18-f51a97eab7a7",
        "colab": {
          "base_uri": "https://localhost:8080/"
        }
      },
      "execution_count": 35,
      "outputs": [
        {
          "output_type": "execute_result",
          "data": {
            "text/plain": [
              "array([6, 7, 8, 9])"
            ]
          },
          "metadata": {},
          "execution_count": 35
        }
      ]
    },
    {
      "cell_type": "code",
      "source": [
        "b=np.ones((3,4))\n",
        "b"
      ],
      "metadata": {
        "id": "Su0z54sAD7Ok",
        "outputId": "35850cfd-b1c7-44d6-85f5-a19b21d059cd",
        "colab": {
          "base_uri": "https://localhost:8080/"
        }
      },
      "execution_count": 36,
      "outputs": [
        {
          "output_type": "execute_result",
          "data": {
            "text/plain": [
              "array([[1., 1., 1., 1.],\n",
              "       [1., 1., 1., 1.],\n",
              "       [1., 1., 1., 1.]])"
            ]
          },
          "metadata": {},
          "execution_count": 36
        }
      ]
    },
    {
      "cell_type": "code",
      "source": [
        "q.shape,b.shape"
      ],
      "metadata": {
        "id": "ZHQtukN8D7dL",
        "outputId": "c51e4ff1-128f-4c55-b0d3-e203806857da",
        "colab": {
          "base_uri": "https://localhost:8080/"
        }
      },
      "execution_count": 37,
      "outputs": [
        {
          "output_type": "execute_result",
          "data": {
            "text/plain": [
              "((4,), (3, 4))"
            ]
          },
          "metadata": {},
          "execution_count": 37
        }
      ]
    },
    {
      "cell_type": "code",
      "source": [
        "q+b"
      ],
      "metadata": {
        "id": "8YwugoRhEZnf",
        "outputId": "33aa7506-86c3-4fee-aa89-f75ab12b5f34",
        "colab": {
          "base_uri": "https://localhost:8080/"
        }
      },
      "execution_count": 38,
      "outputs": [
        {
          "output_type": "execute_result",
          "data": {
            "text/plain": [
              "array([[2., 3., 4., 5.],\n",
              "       [2., 3., 4., 5.],\n",
              "       [2., 3., 4., 5.]])"
            ]
          },
          "metadata": {},
          "execution_count": 38
        }
      ]
    },
    {
      "cell_type": "code",
      "source": [
        "# Hoặc \n",
        "x = [1, 2, 3, 4]\n",
        "y = [4, 5, 6, 7]\n",
        "z = np.add(x, y)\n",
        "print(z)"
      ],
      "metadata": {
        "id": "mLHKdzIVaQ59",
        "outputId": "7e5a4f5f-4323-4ee6-a434-173b528cd67e",
        "colab": {
          "base_uri": "https://localhost:8080/"
        }
      },
      "execution_count": 97,
      "outputs": [
        {
          "output_type": "stream",
          "name": "stdout",
          "text": [
            "[ 5  7  9 11]\n"
          ]
        }
      ]
    },
    {
      "cell_type": "code",
      "source": [
        "q*b"
      ],
      "metadata": {
        "id": "rxAodFC9Ewsy",
        "outputId": "d0a6aef2-f007-451c-8b1a-2e03f81c6891",
        "colab": {
          "base_uri": "https://localhost:8080/"
        }
      },
      "execution_count": 39,
      "outputs": [
        {
          "output_type": "execute_result",
          "data": {
            "text/plain": [
              "array([[1., 2., 3., 4.],\n",
              "       [1., 2., 3., 4.],\n",
              "       [1., 2., 3., 4.]])"
            ]
          },
          "metadata": {},
          "execution_count": 39
        }
      ]
    },
    {
      "cell_type": "code",
      "source": [
        "c=np.arange(3).reshape((3,1))\n",
        "c"
      ],
      "metadata": {
        "id": "5b7YAvYHFc1R",
        "outputId": "c53a2097-b454-4698-d694-d0ec4ac486b6",
        "colab": {
          "base_uri": "https://localhost:8080/"
        }
      },
      "execution_count": 41,
      "outputs": [
        {
          "output_type": "execute_result",
          "data": {
            "text/plain": [
              "array([[0],\n",
              "       [1],\n",
              "       [2]])"
            ]
          },
          "metadata": {},
          "execution_count": 41
        }
      ]
    },
    {
      "cell_type": "code",
      "source": [
        "q*c"
      ],
      "metadata": {
        "id": "FeaifcpwFuii",
        "outputId": "99eb0c27-8573-43ac-802d-fc28bd34c5a2",
        "colab": {
          "base_uri": "https://localhost:8080/"
        }
      },
      "execution_count": 43,
      "outputs": [
        {
          "output_type": "execute_result",
          "data": {
            "text/plain": [
              "array([[0, 0, 0, 0],\n",
              "       [1, 2, 3, 4],\n",
              "       [2, 4, 6, 8]])"
            ]
          },
          "metadata": {},
          "execution_count": 43
        }
      ]
    },
    {
      "cell_type": "code",
      "source": [
        "# Nhân tích vô hướng ma trận \n",
        "A =np.array([[1,2,3],\n",
        "           [4,5,6],\n",
        "           [7,8,9]])\n",
        "B =np.array([[4,3],\n",
        "           [6,5],\n",
        "           [9,8]])"
      ],
      "metadata": {
        "id": "3tKqBkuMPxiW"
      },
      "execution_count": 67,
      "outputs": []
    },
    {
      "cell_type": "code",
      "source": [
        "#A (3x3)dot product (3x2)\n",
        "A.dot(B)"
      ],
      "metadata": {
        "id": "5lPafl11QQU5",
        "outputId": "9a36f772-2537-4bab-bbca-46b40cdd8449",
        "colab": {
          "base_uri": "https://localhost:8080/"
        }
      },
      "execution_count": 68,
      "outputs": [
        {
          "output_type": "execute_result",
          "data": {
            "text/plain": [
              "array([[ 43,  37],\n",
              "       [100,  85],\n",
              "       [157, 133]])"
            ]
          },
          "metadata": {},
          "execution_count": 68
        }
      ]
    },
    {
      "cell_type": "code",
      "source": [
        "# ở đây ta có \n",
        "1*4 + 2*6 +3*9"
      ],
      "metadata": {
        "id": "TkSA6xyQQRBV",
        "outputId": "ddbae220-e259-49d7-a3e2-324694ba6a7d",
        "colab": {
          "base_uri": "https://localhost:8080/"
        }
      },
      "execution_count": 69,
      "outputs": [
        {
          "output_type": "execute_result",
          "data": {
            "text/plain": [
              "43"
            ]
          },
          "metadata": {},
          "execution_count": 69
        }
      ]
    },
    {
      "cell_type": "code",
      "source": [
        "1*3 + 2*5 +3*8"
      ],
      "metadata": {
        "id": "z_ETtTCwQ25Q",
        "outputId": "4e574afc-4f58-4ccd-be78-00e4483492fb",
        "colab": {
          "base_uri": "https://localhost:8080/"
        }
      },
      "execution_count": 70,
      "outputs": [
        {
          "output_type": "execute_result",
          "data": {
            "text/plain": [
              "37"
            ]
          },
          "metadata": {},
          "execution_count": 70
        }
      ]
    },
    {
      "cell_type": "code",
      "source": [
        "# ở đây ta có \n",
        "4*4 + 5*6 +6*9"
      ],
      "metadata": {
        "id": "JWK3rEDlQ3A5",
        "outputId": "2b7db551-77b1-43d1-b63f-cff6e32af853",
        "colab": {
          "base_uri": "https://localhost:8080/"
        }
      },
      "execution_count": 71,
      "outputs": [
        {
          "output_type": "execute_result",
          "data": {
            "text/plain": [
              "100"
            ]
          },
          "metadata": {},
          "execution_count": 71
        }
      ]
    },
    {
      "cell_type": "code",
      "source": [
        "##Tương tự \n",
        "\n",
        "##Hoặc ta có thể tính tích vô hướng bằng cách \n",
        "A@B"
      ],
      "metadata": {
        "id": "FJdChsl_Q3H5",
        "outputId": "611dedd7-a40b-4321-d29e-510fef75039a",
        "colab": {
          "base_uri": "https://localhost:8080/"
        }
      },
      "execution_count": 73,
      "outputs": [
        {
          "output_type": "execute_result",
          "data": {
            "text/plain": [
              "array([[ 43,  37],\n",
              "       [100,  85],\n",
              "       [157, 133]])"
            ]
          },
          "metadata": {},
          "execution_count": 73
        }
      ]
    },
    {
      "cell_type": "code",
      "source": [
        "##Nếu bạn muốn B@A \n",
        "#thay đổi B 3x2 thành 2x3 \n",
        "B.T"
      ],
      "metadata": {
        "id": "_V94i5l3Rapk",
        "outputId": "9058f75b-aee7-41c3-b021-6f149f77aa76",
        "colab": {
          "base_uri": "https://localhost:8080/"
        }
      },
      "execution_count": 74,
      "outputs": [
        {
          "output_type": "execute_result",
          "data": {
            "text/plain": [
              "array([[4, 6, 9],\n",
              "       [3, 5, 8]])"
            ]
          },
          "metadata": {},
          "execution_count": 74
        }
      ]
    },
    {
      "cell_type": "code",
      "source": [
        "B.T @A"
      ],
      "metadata": {
        "id": "lVUrp0sxRaxH",
        "outputId": "1ccaa30c-bc9e-4087-b52d-e6e5c2546385",
        "colab": {
          "base_uri": "https://localhost:8080/"
        }
      },
      "execution_count": 75,
      "outputs": [
        {
          "output_type": "execute_result",
          "data": {
            "text/plain": [
              "array([[ 91, 110, 129],\n",
              "       [ 79,  95, 111]])"
            ]
          },
          "metadata": {},
          "execution_count": 75
        }
      ]
    },
    {
      "cell_type": "code",
      "source": [
        "# Rút gọn số thập phân \n",
        "#Cắt phần sau dấu phẩy \n",
        "arr = np.trunc([-3.1666, 3.6667])\n",
        "print(arr)"
      ],
      "metadata": {
        "id": "de0cxd8VauYs",
        "outputId": "6dceca97-5246-49c7-9f75-85537448c9f6",
        "colab": {
          "base_uri": "https://localhost:8080/"
        }
      },
      "execution_count": 98,
      "outputs": [
        {
          "output_type": "stream",
          "name": "stdout",
          "text": [
            "[-3.  3.]\n"
          ]
        }
      ]
    },
    {
      "cell_type": "code",
      "source": [
        "arr = np.fix([-3.1666, 3.6667])\n",
        "print(arr)"
      ],
      "metadata": {
        "id": "HWXFKKyya6gs",
        "outputId": "1a73bc1a-eb7e-41b5-95d6-ca2b0aecf265",
        "colab": {
          "base_uri": "https://localhost:8080/"
        }
      },
      "execution_count": 99,
      "outputs": [
        {
          "output_type": "stream",
          "name": "stdout",
          "text": [
            "[-3.  3.]\n"
          ]
        }
      ]
    },
    {
      "cell_type": "code",
      "source": [
        "# Làm tròn đến 2 số thập phân \n",
        "arr = np.around(3.1666, 2)\n",
        "print(arr)"
      ],
      "metadata": {
        "id": "zblpIlcya-8M",
        "outputId": "700576a3-d6f9-479f-bfb8-53eba3c55a8d",
        "colab": {
          "base_uri": "https://localhost:8080/"
        }
      },
      "execution_count": 100,
      "outputs": [
        {
          "output_type": "stream",
          "name": "stdout",
          "text": [
            "3.17\n"
          ]
        }
      ]
    },
    {
      "cell_type": "code",
      "source": [
        "# Làm tròn thấp hơn \n",
        "# Hàm floor() làm tròn số thập phân thành số nguyên thấp hơn gần nhất.\n",
        "arr = np.floor([-3.1666, 3.6667])\n",
        "print(arr)"
      ],
      "metadata": {
        "id": "zb2tEoeGbQjM",
        "outputId": "2dbb70db-155c-4a3d-d4e2-6c6c9fb8c56c",
        "colab": {
          "base_uri": "https://localhost:8080/"
        }
      },
      "execution_count": 101,
      "outputs": [
        {
          "output_type": "stream",
          "name": "stdout",
          "text": [
            "[-4.  3.]\n"
          ]
        }
      ]
    },
    {
      "cell_type": "code",
      "source": [
        "# Làm tròn cao hơn \n",
        "#Hàm ceil() làm tròn số thập phân thành số nguyên trên gần nhất.\n",
        "arr = np.ceil([-3.1666, 3.6667])\n",
        "print(arr)"
      ],
      "metadata": {
        "id": "mQVwdAV-bZk6",
        "outputId": "a2983868-b240-45af-aa9f-0fa5898ad274",
        "colab": {
          "base_uri": "https://localhost:8080/"
        }
      },
      "execution_count": 102,
      "outputs": [
        {
          "output_type": "stream",
          "name": "stdout",
          "text": [
            "[-3.  4.]\n"
          ]
        }
      ]
    },
    {
      "cell_type": "code",
      "source": [
        "# lấy phần tử trong mảng\n",
        "arr = np.array([[1,2,3,4,5], [6,7,8,9,10]])\n",
        "print('5th element on 2nd row: ', arr[1, 4]) #dòng 2 cột 5"
      ],
      "metadata": {
        "colab": {
          "base_uri": "https://localhost:8080/"
        },
        "id": "J5y9EF9LyI7p",
        "outputId": "2c8e17b4-1190-4498-9da6-1904e6e6d888"
      },
      "execution_count": null,
      "outputs": [
        {
          "output_type": "stream",
          "name": "stdout",
          "text": [
            "5th element on 2nd row:  10\n"
          ]
        }
      ]
    },
    {
      "cell_type": "code",
      "source": [
        "import numpy as np\n",
        "arr = np.array([[[1, 2, 3], [4, 5, 6]], [[7, 8, 9], [10, 11, 12]]])\n",
        "print(arr[0, 1, 2]) # dòng 1 của mảng, dòng 2 , cột 3"
      ],
      "metadata": {
        "colab": {
          "base_uri": "https://localhost:8080/"
        },
        "id": "ZV9gnbbqyI-e",
        "outputId": "f972ebad-cc04-4378-f91b-73ee04beebc9"
      },
      "execution_count": null,
      "outputs": [
        {
          "output_type": "stream",
          "name": "stdout",
          "text": [
            "6\n"
          ]
        }
      ]
    },
    {
      "cell_type": "code",
      "source": [
        "#cắt mảng\n",
        "arr = np.array([1, 2, 3, 4, 5, 6, 7])\n",
        "print(arr[4:])"
      ],
      "metadata": {
        "colab": {
          "base_uri": "https://localhost:8080/"
        },
        "id": "3AphVpUf4Qy8",
        "outputId": "8c0dd198-71f7-40f6-e88a-82933e393127"
      },
      "execution_count": null,
      "outputs": [
        {
          "output_type": "stream",
          "name": "stdout",
          "text": [
            "[5 6 7]\n"
          ]
        }
      ]
    },
    {
      "cell_type": "code",
      "source": [
        "#Cắt bước\n",
        "#arr = np.array([1, 2, 3, 4, 5, 6, 7])\n",
        "#print(arr[1:5:2])\n",
        "arr = np.array([1, 2, 3, 4, 5, 6, 7])\n",
        "print(arr[::2]) ## cắt từ 0 đến n cắt nhau 2 step"
      ],
      "metadata": {
        "colab": {
          "base_uri": "https://localhost:8080/"
        },
        "id": "8O7oA29e4Q1a",
        "outputId": "ee86a0ff-e66d-4d2f-f4ba-bf7f8fdcaac5"
      },
      "execution_count": null,
      "outputs": [
        {
          "output_type": "stream",
          "name": "stdout",
          "text": [
            "[1 3 5 7]\n"
          ]
        }
      ]
    },
    {
      "cell_type": "code",
      "source": [
        "arr = np.array([[1, 2, 3, 4, 5], [6, 7, 8, 9, 10]])\n",
        "print(arr[1, 1:4]) #cắt dòng 2 , từ cột 2 tới cột 4"
      ],
      "metadata": {
        "colab": {
          "base_uri": "https://localhost:8080/"
        },
        "id": "xvSLJXL_4Q4R",
        "outputId": "f8c903d6-c834-45fc-b505-87a5ff57eda6"
      },
      "execution_count": null,
      "outputs": [
        {
          "output_type": "stream",
          "name": "stdout",
          "text": [
            "[7 8 9]\n"
          ]
        }
      ]
    },
    {
      "cell_type": "code",
      "source": [
        "arr = np.array([[1, 2, 3, 4, 5], [6, 7, 8, 9, 10]])\n",
        "print(arr[0:2, 2]) #cắt vị trí 1 đến 3 , ở vị trí 3 "
      ],
      "metadata": {
        "id": "t8ZTAaAB4Q6v"
      },
      "execution_count": null,
      "outputs": []
    },
    {
      "cell_type": "code",
      "source": [
        "## Định hình lại mảng\n",
        "#1D thành 2D\n",
        "a = np.array([1, 2, 3, 4, 5, 6, 7, 8, 9, 10, 11, 12])\n",
        "b = a.reshape(4, 3)\n",
        "print(b)"
      ],
      "metadata": {
        "colab": {
          "base_uri": "https://localhost:8080/"
        },
        "id": "qSyrhGkO4Q9Z",
        "outputId": "f4015e6d-f95a-4153-93c5-6fd032da55b0"
      },
      "execution_count": null,
      "outputs": [
        {
          "output_type": "stream",
          "name": "stdout",
          "text": [
            "[[ 1  2  3]\n",
            " [ 4  5  6]\n",
            " [ 7  8  9]\n",
            " [10 11 12]]\n"
          ]
        }
      ]
    },
    {
      "cell_type": "code",
      "source": [
        "#1D thành 3D\n",
        "a = np.array([1, 2, 3, 4, 5, 6, 7, 8, 9, 10, 11, 12])\n",
        "b = a.reshape(2, 3 ,2)\n",
        "print(b)"
      ],
      "metadata": {
        "colab": {
          "base_uri": "https://localhost:8080/"
        },
        "id": "bneuaHGN4RAU",
        "outputId": "5539f52a-2fd4-4287-89f6-8142c1123c97"
      },
      "execution_count": null,
      "outputs": [
        {
          "output_type": "stream",
          "name": "stdout",
          "text": [
            "[[[ 1  2]\n",
            "  [ 3  4]\n",
            "  [ 5  6]]\n",
            "\n",
            " [[ 7  8]\n",
            "  [ 9 10]\n",
            "  [11 12]]]\n"
          ]
        }
      ]
    },
    {
      "cell_type": "code",
      "source": [
        "#2D thành 1D\n",
        "a = np.array([[1, 2, 3], [4, 5, 6]])\n",
        "b = a.reshape(-1)\n",
        "print(b)"
      ],
      "metadata": {
        "colab": {
          "base_uri": "https://localhost:8080/"
        },
        "id": "aFDZOzXs4RC-",
        "outputId": "1031720d-0433-45ff-ac60-ea5853fc1a1e"
      },
      "execution_count": null,
      "outputs": [
        {
          "output_type": "stream",
          "name": "stdout",
          "text": [
            "[1 2 3 4 5 6]\n"
          ]
        }
      ]
    },
    {
      "cell_type": "code",
      "source": [
        "# Chuyển hàng thành cột \n",
        "x=np.array([[1.,2.],[3.,4.]])\n",
        "x"
      ],
      "metadata": {
        "colab": {
          "base_uri": "https://localhost:8080/"
        },
        "id": "ylOZW1pA9vU_",
        "outputId": "f8f41143-a77e-42d0-8170-d0b4edc4a60f"
      },
      "execution_count": 15,
      "outputs": [
        {
          "output_type": "execute_result",
          "data": {
            "text/plain": [
              "array([[1., 2.],\n",
              "       [3., 4.]])"
            ]
          },
          "metadata": {},
          "execution_count": 15
        }
      ]
    },
    {
      "cell_type": "code",
      "source": [
        "x.T"
      ],
      "metadata": {
        "colab": {
          "base_uri": "https://localhost:8080/"
        },
        "id": "KQXZL27V9-ps",
        "outputId": "e51bdeab-d2a2-4817-c7d6-8f05e5de2391"
      },
      "execution_count": 16,
      "outputs": [
        {
          "output_type": "execute_result",
          "data": {
            "text/plain": [
              "array([[1., 3.],\n",
              "       [2., 4.]])"
            ]
          },
          "metadata": {},
          "execution_count": 16
        }
      ]
    },
    {
      "cell_type": "code",
      "source": [
        "#lặp lại mảng\n",
        "arr = np.array([1, 2, 3])\n",
        "for x in arr:\n",
        "  print(x)"
      ],
      "metadata": {
        "colab": {
          "base_uri": "https://localhost:8080/"
        },
        "id": "Vb5cAxyx4RF8",
        "outputId": "66fdcfde-252b-4445-a7c1-e2f4d61339a4"
      },
      "execution_count": null,
      "outputs": [
        {
          "output_type": "stream",
          "name": "stdout",
          "text": [
            "1\n",
            "2\n",
            "3\n"
          ]
        }
      ]
    },
    {
      "cell_type": "code",
      "source": [
        "arr = np.array([[1, 2, 3, 4], [5, 6, 7, 8]])\n",
        "for x in np.nditer(arr[:, ::2]): #lặp mảng từ 0 đến n và cách nhau 2 step\n",
        "  print(x)"
      ],
      "metadata": {
        "colab": {
          "base_uri": "https://localhost:8080/"
        },
        "id": "LFwYgiPZ4RIw",
        "outputId": "7a88042e-960f-4096-9ffe-bca48b66db0c"
      },
      "execution_count": null,
      "outputs": [
        {
          "output_type": "stream",
          "name": "stdout",
          "text": [
            "1\n",
            "3\n",
            "5\n",
            "7\n"
          ]
        }
      ]
    },
    {
      "cell_type": "code",
      "source": [
        "#Kết hợp mảng và tách mảng\n",
        "arr1 = np.array([1, 2, 3])\n",
        "arr2 = np.array([4, 5, 6])\n",
        "arr = np.concatenate((arr1, arr2))\n",
        "print(arr)"
      ],
      "metadata": {
        "colab": {
          "base_uri": "https://localhost:8080/"
        },
        "id": "5ZCH7WBD4RLP",
        "outputId": "67f25ae4-1bf3-4920-9254-01f031f1e295"
      },
      "execution_count": null,
      "outputs": [
        {
          "output_type": "stream",
          "name": "stdout",
          "text": [
            "[1 2 3 4 5 6]\n"
          ]
        }
      ]
    },
    {
      "cell_type": "code",
      "source": [
        "  a=np.array([[1,2,3],\n",
        "             [4,5,6]])\n",
        "  a\n",
        "  np.concatenate((a,a)) #axis=0 by default "
      ],
      "metadata": {
        "colab": {
          "base_uri": "https://localhost:8080/"
        },
        "id": "zB1kAbIX-j2a",
        "outputId": "bac8c51d-d517-41ed-d2ab-fc6f8cb09a4c"
      },
      "execution_count": 18,
      "outputs": [
        {
          "output_type": "execute_result",
          "data": {
            "text/plain": [
              "array([[1, 2, 3],\n",
              "       [4, 5, 6],\n",
              "       [1, 2, 3],\n",
              "       [4, 5, 6]])"
            ]
          },
          "metadata": {},
          "execution_count": 18
        }
      ]
    },
    {
      "cell_type": "code",
      "source": [
        "np.concatenate((a,a),axis=1)"
      ],
      "metadata": {
        "colab": {
          "base_uri": "https://localhost:8080/"
        },
        "id": "L8XqqL--_AXK",
        "outputId": "e2da264f-1d2e-42f6-ff25-b1b328a71754"
      },
      "execution_count": 19,
      "outputs": [
        {
          "output_type": "execute_result",
          "data": {
            "text/plain": [
              "array([[1, 2, 3, 1, 2, 3],\n",
              "       [4, 5, 6, 4, 5, 6]])"
            ]
          },
          "metadata": {},
          "execution_count": 19
        }
      ]
    },
    {
      "cell_type": "code",
      "source": [
        "arr1 = np.array([[1, 2], [3, 4]])\n",
        "arr2 = np.array([[5, 6], [7, 8]])\n",
        "arr = np.concatenate((arr1, arr2), axis=1)\n",
        "print(arr)"
      ],
      "metadata": {
        "colab": {
          "base_uri": "https://localhost:8080/"
        },
        "id": "7ceNUTfyAWX2",
        "outputId": "d1e07857-c76a-4f25-ade7-2a85217420d9"
      },
      "execution_count": null,
      "outputs": [
        {
          "output_type": "stream",
          "name": "stdout",
          "text": [
            "[[1 2 5 6]\n",
            " [3 4 7 8]]\n"
          ]
        }
      ]
    },
    {
      "cell_type": "code",
      "source": [
        "#Chúng tôi chuyển một chuỗi các mảng mà chúng tôi muốn nối với stack()phương thức cùng với trục. Nếu trục không được thông qua một cách rõ ràng, nó được coi là 0.\n",
        "arr1 = np.array([1, 2, 3])\n",
        "arr2 = np.array([4, 5, 6])\n",
        "arr = np.stack((arr1, arr2), axis=1)\n",
        "print(arr)"
      ],
      "metadata": {
        "colab": {
          "base_uri": "https://localhost:8080/"
        },
        "id": "nk5BQ0LsAWax",
        "outputId": "1394aa22-bf28-431a-869b-305b871be06a"
      },
      "execution_count": null,
      "outputs": [
        {
          "output_type": "stream",
          "name": "stdout",
          "text": [
            "[[1 4]\n",
            " [2 5]\n",
            " [3 6]]\n"
          ]
        }
      ]
    },
    {
      "cell_type": "code",
      "source": [
        "#NumPy cung cấp chức năng trợ giúp: hstack() xếp chồng dọc theo hàng.\n",
        "arr1 = np.array([1, 2, 3])\n",
        "arr2 = np.array([4, 5, 6])\n",
        "arr = np.hstack((arr1, arr2))\n",
        "print(arr)"
      ],
      "metadata": {
        "colab": {
          "base_uri": "https://localhost:8080/"
        },
        "id": "CNSmgfTqAWd1",
        "outputId": "c410c90e-1c11-4c58-9b6d-3459a7c2a057"
      },
      "execution_count": null,
      "outputs": [
        {
          "output_type": "stream",
          "name": "stdout",
          "text": [
            "[1 2 3 4 5 6]\n"
          ]
        }
      ]
    },
    {
      "cell_type": "code",
      "source": [
        "#NumPy cung cấp chức năng trợ giúp: vstack()  xếp chồng dọc theo cột.\n",
        "arr1 = np.array([1, 2, 3])\n",
        "arr2 = np.array([4, 5, 6])\n",
        "arr = np.vstack((arr1, arr2))\n",
        "print(arr)"
      ],
      "metadata": {
        "colab": {
          "base_uri": "https://localhost:8080/"
        },
        "id": "xiIqMExGAWhF",
        "outputId": "866fe542-2782-4591-ebf1-163194a9c0e8"
      },
      "execution_count": null,
      "outputs": [
        {
          "output_type": "stream",
          "name": "stdout",
          "text": [
            "[[1 2 3]\n",
            " [4 5 6]]\n"
          ]
        }
      ]
    },
    {
      "cell_type": "code",
      "source": [
        "#NumPy cung cấp chức năng trợ giúp: dstack() xếp chồng dọc theo chiều cao, giống như chiều sâu.\n",
        "arr1 = np.array([1, 2, 3])\n",
        "arr2 = np.array([4, 5, 6])\n",
        "arr = np.dstack((arr1, arr2))\n",
        "print(arr)"
      ],
      "metadata": {
        "colab": {
          "base_uri": "https://localhost:8080/"
        },
        "id": "dB-XtnybAWlt",
        "outputId": "44e76861-d8ea-4502-dff7-38b478aa6123"
      },
      "execution_count": null,
      "outputs": [
        {
          "output_type": "stream",
          "name": "stdout",
          "text": [
            "[[[1 4]\n",
            "  [2 5]\n",
            "  [3 6]]]\n"
          ]
        }
      ]
    },
    {
      "cell_type": "code",
      "source": [
        "#Tách mảng\n",
        "arr = np.array([1, 2, 3, 4, 5, 6])\n",
        "newarr = np.array_split(arr, 4)\n",
        "print(newarr)"
      ],
      "metadata": {
        "colab": {
          "base_uri": "https://localhost:8080/"
        },
        "id": "R_csleR7Bg42",
        "outputId": "fa69690d-268a-4f51-88af-65fc4ae18415"
      },
      "execution_count": null,
      "outputs": [
        {
          "output_type": "stream",
          "name": "stdout",
          "text": [
            "[array([1, 2]), array([3, 4]), array([5]), array([6])]\n"
          ]
        }
      ]
    },
    {
      "cell_type": "code",
      "source": [
        "arr = np.array([1, 2, 3, 4, 5, 6])\n",
        "newarr = np.array_split(arr, 3)\n",
        "print(newarr[0])\n",
        "print(newarr[1])\n",
        "print(newarr[2])"
      ],
      "metadata": {
        "id": "b7j3hhm3Ccz2",
        "outputId": "763ff014-25d0-4a49-f1bf-b578092eacd8",
        "colab": {
          "base_uri": "https://localhost:8080/"
        }
      },
      "execution_count": 24,
      "outputs": [
        {
          "output_type": "stream",
          "name": "stdout",
          "text": [
            "[1 2]\n",
            "[3 4]\n",
            "[5 6]\n"
          ]
        }
      ]
    },
    {
      "cell_type": "code",
      "source": [
        "#Chia mảng 2-D thành ba mảng 2-D dọc theo hàng.\n",
        "arr = np.array([[1, 2, 3], [4, 5, 6], [7, 8, 9], [10, 11, 12], [13, 14, 15], [16, 17, 18]])\n",
        "newarr = np.array_split(arr, 3, axis=1)\n",
        "print(newarr)"
      ],
      "metadata": {
        "id": "NL1SR4L1CgNa",
        "outputId": "650b6616-1007-46d9-bae4-f9e3371453d9",
        "colab": {
          "base_uri": "https://localhost:8080/"
        }
      },
      "execution_count": 25,
      "outputs": [
        {
          "output_type": "stream",
          "name": "stdout",
          "text": [
            "[array([[ 1],\n",
            "       [ 4],\n",
            "       [ 7],\n",
            "       [10],\n",
            "       [13],\n",
            "       [16]]), array([[ 2],\n",
            "       [ 5],\n",
            "       [ 8],\n",
            "       [11],\n",
            "       [14],\n",
            "       [17]]), array([[ 3],\n",
            "       [ 6],\n",
            "       [ 9],\n",
            "       [12],\n",
            "       [15],\n",
            "       [18]])]\n"
          ]
        }
      ]
    },
    {
      "cell_type": "code",
      "source": [
        "#chia thành mảng\n",
        "arr = np.array([1, 2, 3, 4, 5, 6])\n",
        "newarr = np.array_split(arr, 3)\n",
        "print(newarr[0])\n",
        "print(newarr[1])\n",
        "print(newarr[2])"
      ],
      "metadata": {
        "colab": {
          "base_uri": "https://localhost:8080/"
        },
        "id": "rmPgyAeGBg8f",
        "outputId": "72f28a6f-a127-4a23-e1e6-33251894a101"
      },
      "execution_count": null,
      "outputs": [
        {
          "output_type": "stream",
          "name": "stdout",
          "text": [
            "[1 2]\n",
            "[3 4]\n",
            "[5 6]\n"
          ]
        }
      ]
    },
    {
      "cell_type": "code",
      "source": [
        "#Tìm kiếm vị trí mảng \n",
        "arr = np.array([1, 2, 3, 4, 5, 4, 4])\n",
        "x = np.where(arr == 4)\n",
        "print(x)"
      ],
      "metadata": {
        "colab": {
          "base_uri": "https://localhost:8080/"
        },
        "id": "ofEpLbxzBzAy",
        "outputId": "e876b516-0e20-4e30-c6c6-d9078410b04a"
      },
      "execution_count": null,
      "outputs": [
        {
          "output_type": "stream",
          "name": "stdout",
          "text": [
            "(array([3, 5, 6]),)\n"
          ]
        }
      ]
    },
    {
      "cell_type": "code",
      "source": [
        "arr = np.array([1, 2, 3, 4, 5, 6, 7, 8])\n",
        "x = np.where(arr%2 == 1)\n",
        "print(x)"
      ],
      "metadata": {
        "colab": {
          "base_uri": "https://localhost:8080/"
        },
        "id": "LMDVe7bCCjgO",
        "outputId": "6cfe5870-2d7a-444b-e69f-98ddfbac4e29"
      },
      "execution_count": null,
      "outputs": [
        {
          "output_type": "stream",
          "name": "stdout",
          "text": [
            "(array([0, 2, 4, 6]),)\n"
          ]
        }
      ]
    },
    {
      "cell_type": "code",
      "source": [
        "#Sắp xếp mảng\n",
        "import numpy as np\n",
        "k = np.array([3, 2, 0, 1])\n",
        "print(np.sort(k))"
      ],
      "metadata": {
        "colab": {
          "base_uri": "https://localhost:8080/"
        },
        "id": "_PyhiikoCjni",
        "outputId": "a56d5557-0cd5-428f-ae3a-a29d0a44185a"
      },
      "execution_count": 57,
      "outputs": [
        {
          "output_type": "stream",
          "name": "stdout",
          "text": [
            "[0 1 2 3]\n"
          ]
        }
      ]
    },
    {
      "cell_type": "code",
      "source": [
        "np.argsort(k) # hàm này giúp cho biết vị trí ban đầu chưa thay đổi vd 0 nằm ở vị trí 2 , 1 nằm ở vị trí 3 ,..."
      ],
      "metadata": {
        "id": "PnXxeLpsNFMY",
        "outputId": "494405bb-af56-4c9b-e97e-3dc8b43c3823",
        "colab": {
          "base_uri": "https://localhost:8080/"
        }
      },
      "execution_count": 59,
      "outputs": [
        {
          "output_type": "execute_result",
          "data": {
            "text/plain": [
              "array([2, 3, 1, 0])"
            ]
          },
          "metadata": {},
          "execution_count": 59
        }
      ]
    },
    {
      "cell_type": "code",
      "source": [
        "# Xếp sếp mảng đa chiều \n",
        "MatA=np.random.randint(0,10,size=(4,6))\n",
        "MatA"
      ],
      "metadata": {
        "id": "VUvCL_OqOLNI",
        "outputId": "bb73f165-b96d-4a91-9e95-52753b6b3305",
        "colab": {
          "base_uri": "https://localhost:8080/"
        }
      },
      "execution_count": 63,
      "outputs": [
        {
          "output_type": "execute_result",
          "data": {
            "text/plain": [
              "array([[8, 6, 4, 9, 1, 7],\n",
              "       [6, 5, 3, 4, 3, 8],\n",
              "       [8, 6, 4, 1, 9, 7],\n",
              "       [9, 9, 5, 5, 9, 3]])"
            ]
          },
          "metadata": {},
          "execution_count": 63
        }
      ]
    },
    {
      "cell_type": "code",
      "source": [
        "#Theo cột\n",
        "np.sort(MatA,axis=0)"
      ],
      "metadata": {
        "id": "swma7E4wOyAC",
        "outputId": "c19844eb-21e7-4a7e-9448-6bc6e10b2422",
        "colab": {
          "base_uri": "https://localhost:8080/"
        }
      },
      "execution_count": 64,
      "outputs": [
        {
          "output_type": "execute_result",
          "data": {
            "text/plain": [
              "array([[6, 5, 3, 1, 1, 3],\n",
              "       [8, 6, 4, 4, 3, 7],\n",
              "       [8, 6, 4, 5, 9, 7],\n",
              "       [9, 9, 5, 9, 9, 8]])"
            ]
          },
          "metadata": {},
          "execution_count": 64
        }
      ]
    },
    {
      "cell_type": "code",
      "source": [
        "# Theo hàng \n",
        "np.sort(MatA,axis=1)"
      ],
      "metadata": {
        "id": "U6Fg7vTYO_qO",
        "outputId": "00703045-90ba-42ab-a2e5-efa4051523ec",
        "colab": {
          "base_uri": "https://localhost:8080/"
        }
      },
      "execution_count": 65,
      "outputs": [
        {
          "output_type": "execute_result",
          "data": {
            "text/plain": [
              "array([[1, 4, 6, 7, 8, 9],\n",
              "       [3, 3, 4, 5, 6, 8],\n",
              "       [1, 4, 6, 7, 8, 9],\n",
              "       [3, 5, 5, 9, 9, 9]])"
            ]
          },
          "metadata": {},
          "execution_count": 65
        }
      ]
    },
    {
      "cell_type": "code",
      "source": [
        "#Lọc mảng , lấy các phần tử theo điều kiện\n",
        "#Lấy các mảng lớn hơn 42\n",
        "arr = np.array([41, 42, 43, 44])\n",
        "filter_arr = []\n",
        "for element in arr:\n",
        "  if element > 42:\n",
        "    filter_arr.append(True)\n",
        "  else:\n",
        "    filter_arr.append(False)\n",
        "newarr = arr[filter_arr]\n",
        "print(filter_arr)\n",
        "print(newarr)\n"
      ],
      "metadata": {
        "colab": {
          "base_uri": "https://localhost:8080/"
        },
        "id": "_rC6gUAACjuW",
        "outputId": "40833796-39cf-4bd0-972e-ed0a831f00fa"
      },
      "execution_count": null,
      "outputs": [
        {
          "output_type": "stream",
          "name": "stdout",
          "text": [
            "[False, False, True, True]\n",
            "[43 44]\n"
          ]
        }
      ]
    },
    {
      "cell_type": "code",
      "source": [
        "arr = np.array([41, 42, 43, 44])\n",
        "filter_arr = arr > 42\n",
        "newarr = arr[filter_arr]\n",
        "print(filter_arr)\n",
        "print(newarr)"
      ],
      "metadata": {
        "colab": {
          "base_uri": "https://localhost:8080/"
        },
        "id": "m5Ape2NSDnIg",
        "outputId": "3f27ce28-9851-49e6-a8b5-34443db86ef4"
      },
      "execution_count": null,
      "outputs": [
        {
          "output_type": "stream",
          "name": "stdout",
          "text": [
            "[False False  True  True]\n",
            "[43 44]\n"
          ]
        }
      ]
    },
    {
      "cell_type": "markdown",
      "source": [
        "**Numpy Ngẫu nhiên**\n"
      ],
      "metadata": {
        "id": "aE7GO04ADyUz"
      }
    },
    {
      "cell_type": "code",
      "source": [
        "#Hàm random này return những số thực ngẫu nhiên từ 0->1\n",
        "import numpy as np\n",
        "np.random.random((4,4))"
      ],
      "metadata": {
        "id": "BmuspSMSDw-K",
        "colab": {
          "base_uri": "https://localhost:8080/"
        },
        "outputId": "a54b9301-c312-4fb3-cb92-e1559a152bb4"
      },
      "execution_count": null,
      "outputs": [
        {
          "output_type": "execute_result",
          "data": {
            "text/plain": [
              "array([[0.54781639, 0.09521122, 0.49971008, 0.85539159],\n",
              "       [0.73571133, 0.59700345, 0.35032172, 0.93288206],\n",
              "       [0.28700687, 0.33445564, 0.79866372, 0.97798036],\n",
              "       [0.08271753, 0.82180457, 0.61260763, 0.79973298]])"
            ]
          },
          "metadata": {},
          "execution_count": 3
        }
      ]
    },
    {
      "cell_type": "code",
      "source": [
        "# Để các số ngẫu nhiên chạy đều giống nhau dù ở máy nào khác \n",
        "np.random.seed(0)\n",
        "np.random.random((4,4))"
      ],
      "metadata": {
        "id": "fGeH4rFbDxHH",
        "colab": {
          "base_uri": "https://localhost:8080/"
        },
        "outputId": "a8a92432-62ab-49f7-eb90-323638b36a54"
      },
      "execution_count": null,
      "outputs": [
        {
          "output_type": "execute_result",
          "data": {
            "text/plain": [
              "array([[0.5488135 , 0.71518937, 0.60276338, 0.54488318],\n",
              "       [0.4236548 , 0.64589411, 0.43758721, 0.891773  ],\n",
              "       [0.96366276, 0.38344152, 0.79172504, 0.52889492],\n",
              "       [0.56804456, 0.92559664, 0.07103606, 0.0871293 ]])"
            ]
          },
          "metadata": {},
          "execution_count": 4
        }
      ]
    },
    {
      "cell_type": "code",
      "source": [
        "np.random.rand(4,4) "
      ],
      "metadata": {
        "colab": {
          "base_uri": "https://localhost:8080/"
        },
        "id": "Xel9gfp91F_Y",
        "outputId": "55b8cc9c-5688-4a49-dc74-c0adc595b5db"
      },
      "execution_count": null,
      "outputs": [
        {
          "output_type": "execute_result",
          "data": {
            "text/plain": [
              "array([[0.65279032, 0.63505887, 0.99529957, 0.58185033],\n",
              "       [0.41436859, 0.4746975 , 0.6235101 , 0.33800761],\n",
              "       [0.67475232, 0.31720174, 0.77834548, 0.94957105],\n",
              "       [0.66252687, 0.01357164, 0.6228461 , 0.67365963]])"
            ]
          },
          "metadata": {},
          "execution_count": 7
        }
      ]
    },
    {
      "cell_type": "code",
      "source": [
        "np.random.normal(0,1,(4,4)) #0 là mean giá trị trung bình , 1 là độ lệch chuẩn"
      ],
      "metadata": {
        "id": "wZt5_KKDDxKl",
        "colab": {
          "base_uri": "https://localhost:8080/"
        },
        "outputId": "c7ff6512-3f4e-4d0e-b670-d57c9814b630"
      },
      "execution_count": null,
      "outputs": [
        {
          "output_type": "execute_result",
          "data": {
            "text/plain": [
              "array([[ 0.44386323,  0.33367433,  1.49407907, -0.20515826],\n",
              "       [ 0.3130677 , -0.85409574, -2.55298982,  0.6536186 ],\n",
              "       [ 0.8644362 , -0.74216502,  2.26975462, -1.45436567],\n",
              "       [ 0.04575852, -0.18718385,  1.53277921,  1.46935877]])"
            ]
          },
          "metadata": {},
          "execution_count": 5
        }
      ]
    },
    {
      "cell_type": "code",
      "source": [
        "np.random.randint(0,10,(4,5))"
      ],
      "metadata": {
        "id": "_D2ypddpDxNe",
        "colab": {
          "base_uri": "https://localhost:8080/"
        },
        "outputId": "d5dbfa9a-cec7-4427-fa24-3eb0b250580f"
      },
      "execution_count": null,
      "outputs": [
        {
          "output_type": "execute_result",
          "data": {
            "text/plain": [
              "array([[4, 9, 8, 1, 1],\n",
              "       [7, 9, 9, 3, 6],\n",
              "       [7, 2, 0, 3, 5],\n",
              "       [9, 4, 4, 6, 4]])"
            ]
          },
          "metadata": {},
          "execution_count": 6
        }
      ]
    },
    {
      "cell_type": "code",
      "source": [
        "x1=np.random.randint(20,size=6)\n",
        "x1"
      ],
      "metadata": {
        "colab": {
          "base_uri": "https://localhost:8080/"
        },
        "id": "EyGMZJEy7IhA",
        "outputId": "a6786e13-6c36-4e9a-d1ec-18380edd74c1"
      },
      "execution_count": 9,
      "outputs": [
        {
          "output_type": "execute_result",
          "data": {
            "text/plain": [
              "array([16,  3,  2, 10, 13, 16])"
            ]
          },
          "metadata": {},
          "execution_count": 9
        }
      ]
    },
    {
      "cell_type": "code",
      "source": [
        "x1[4]"
      ],
      "metadata": {
        "colab": {
          "base_uri": "https://localhost:8080/"
        },
        "id": "LI8cPdaj8LJa",
        "outputId": "2821da02-7fe2-41f9-dff5-adf2180ec936"
      },
      "execution_count": 11,
      "outputs": [
        {
          "output_type": "execute_result",
          "data": {
            "text/plain": [
              "13"
            ]
          },
          "metadata": {},
          "execution_count": 11
        }
      ]
    },
    {
      "cell_type": "code",
      "source": [
        "x2=np.random.randint(10,size=(3,4))\n",
        "x2"
      ],
      "metadata": {
        "colab": {
          "base_uri": "https://localhost:8080/"
        },
        "id": "XFbPSmgu7IkX",
        "outputId": "817baeca-478d-4f0e-8af6-9540f3230d37"
      },
      "execution_count": 10,
      "outputs": [
        {
          "output_type": "execute_result",
          "data": {
            "text/plain": [
              "array([[7, 5, 9, 0],\n",
              "       [2, 7, 2, 9],\n",
              "       [2, 3, 3, 2]])"
            ]
          },
          "metadata": {},
          "execution_count": 10
        }
      ]
    },
    {
      "cell_type": "code",
      "source": [
        "x2[2,3]=6\n",
        "x2"
      ],
      "metadata": {
        "colab": {
          "base_uri": "https://localhost:8080/"
        },
        "id": "HsY2q1Fr7InD",
        "outputId": "652b6341-b892-408e-f83c-83f55bb2080c"
      },
      "execution_count": 13,
      "outputs": [
        {
          "output_type": "execute_result",
          "data": {
            "text/plain": [
              "array([[7, 5, 9, 0],\n",
              "       [2, 7, 2, 9],\n",
              "       [2, 3, 3, 6]])"
            ]
          },
          "metadata": {},
          "execution_count": 13
        }
      ]
    },
    {
      "cell_type": "code",
      "source": [
        "### Phép tính \n",
        "list_number= [1,2,3]\n",
        "ll=np.array(list_number)\n",
        "ll"
      ],
      "metadata": {
        "colab": {
          "base_uri": "https://localhost:8080/"
        },
        "id": "FG7Hfulz7Iqd",
        "outputId": "169e6ab0-1a69-4ad2-ad71-33cbea11bc34"
      },
      "execution_count": 47,
      "outputs": [
        {
          "output_type": "execute_result",
          "data": {
            "text/plain": [
              "array([1, 2, 3])"
            ]
          },
          "metadata": {},
          "execution_count": 47
        }
      ]
    },
    {
      "cell_type": "code",
      "source": [
        "np.sum(ll)"
      ],
      "metadata": {
        "colab": {
          "base_uri": "https://localhost:8080/"
        },
        "id": "HAmzYUc17IuG",
        "outputId": "ebf4021e-194b-412d-8741-ab94bc8b7151"
      },
      "execution_count": 48,
      "outputs": [
        {
          "output_type": "execute_result",
          "data": {
            "text/plain": [
              "6"
            ]
          },
          "metadata": {},
          "execution_count": 48
        }
      ]
    },
    {
      "cell_type": "code",
      "source": [
        "# Tạo 10 000 số ngẫu nhiên trong khoảng 0->1\n",
        "x=np.random.random(10000)\n",
        "x[:5]"
      ],
      "metadata": {
        "id": "iACV4-GBJTC0",
        "outputId": "2db10d28-f11c-49d1-8315-bb0c62f57d9a",
        "colab": {
          "base_uri": "https://localhost:8080/"
        }
      },
      "execution_count": 49,
      "outputs": [
        {
          "output_type": "execute_result",
          "data": {
            "text/plain": [
              "array([0.56518887, 0.86510256, 0.50896896, 0.91672295, 0.92115761])"
            ]
          },
          "metadata": {},
          "execution_count": 49
        }
      ]
    },
    {
      "cell_type": "code",
      "source": [
        "np.sum(x)"
      ],
      "metadata": {
        "id": "VWISsmHuJTIF",
        "outputId": "b24da466-7574-41fc-cfdf-061b9d63a244",
        "colab": {
          "base_uri": "https://localhost:8080/"
        }
      },
      "execution_count": 50,
      "outputs": [
        {
          "output_type": "execute_result",
          "data": {
            "text/plain": [
              "5011.663141126965"
            ]
          },
          "metadata": {},
          "execution_count": 50
        }
      ]
    },
    {
      "cell_type": "code",
      "source": [
        "# tính gt trunh bình \n",
        "np.mean(x)"
      ],
      "metadata": {
        "id": "6KdNw7vFJTNL",
        "outputId": "f6866a47-fc41-4741-8c5d-af462b70b295",
        "colab": {
          "base_uri": "https://localhost:8080/"
        }
      },
      "execution_count": 51,
      "outputs": [
        {
          "output_type": "execute_result",
          "data": {
            "text/plain": [
              "0.5011663141126964"
            ]
          },
          "metadata": {},
          "execution_count": 51
        }
      ]
    },
    {
      "cell_type": "code",
      "source": [
        "#find max\n",
        "np.max(x)"
      ],
      "metadata": {
        "id": "4S8hysPcJTTB",
        "outputId": "420f9251-7571-4c9d-89b1-d12173686f06",
        "colab": {
          "base_uri": "https://localhost:8080/"
        }
      },
      "execution_count": 52,
      "outputs": [
        {
          "output_type": "execute_result",
          "data": {
            "text/plain": [
              "0.9999709462497284"
            ]
          },
          "metadata": {},
          "execution_count": 52
        }
      ]
    },
    {
      "cell_type": "code",
      "source": [
        "#find min\n",
        "np.min(x)"
      ],
      "metadata": {
        "id": "wk10KgMZJTY9",
        "outputId": "7638b39a-ee59-4dbe-a2a7-8f18e5f744bf",
        "colab": {
          "base_uri": "https://localhost:8080/"
        }
      },
      "execution_count": 53,
      "outputs": [
        {
          "output_type": "execute_result",
          "data": {
            "text/plain": [
              "2.0027530115096503e-05"
            ]
          },
          "metadata": {},
          "execution_count": 53
        }
      ]
    },
    {
      "cell_type": "code",
      "source": [
        "###### Phương sai và độ lệch chuẩn"
      ],
      "metadata": {
        "id": "ehOlV6wCJTeb"
      },
      "execution_count": null,
      "outputs": []
    },
    {
      "cell_type": "code",
      "source": [
        "student=[160,180,170,175,185]\n",
        "student=np.array(student)\n",
        "# Tính độ lệch chuẩn \n",
        "np.std(student) # hoặc np.sqrt(np.var(student))"
      ],
      "metadata": {
        "id": "LPL95jLfLuHc",
        "outputId": "eb5c4cf7-a9fa-4a0d-9c42-0771c8076c01",
        "colab": {
          "base_uri": "https://localhost:8080/"
        }
      },
      "execution_count": 54,
      "outputs": [
        {
          "output_type": "execute_result",
          "data": {
            "text/plain": [
              "8.602325267042627"
            ]
          },
          "metadata": {},
          "execution_count": 54
        }
      ]
    },
    {
      "cell_type": "code",
      "source": [
        "# phương sai \n",
        "np.var(student)"
      ],
      "metadata": {
        "id": "EFMFqya7LuNb",
        "outputId": "c147e101-816e-4ce2-cb4b-e809a50e7b72",
        "colab": {
          "base_uri": "https://localhost:8080/"
        }
      },
      "execution_count": 55,
      "outputs": [
        {
          "output_type": "execute_result",
          "data": {
            "text/plain": [
              "74.0"
            ]
          },
          "metadata": {},
          "execution_count": 55
        }
      ]
    },
    {
      "cell_type": "code",
      "source": [
        "#DOT PRODUCT EXAMPLE\n",
        "\n",
        "np.random.seed(0)\n",
        "sale=np.random.randint(20,size=(5,3))\n",
        "sale"
      ],
      "metadata": {
        "id": "29S4zjmoPqjp",
        "outputId": "ae05916b-5a44-4493-f039-3b9d99afd906",
        "colab": {
          "base_uri": "https://localhost:8080/"
        }
      },
      "execution_count": 80,
      "outputs": [
        {
          "output_type": "execute_result",
          "data": {
            "text/plain": [
              "array([[12, 15,  0],\n",
              "       [ 3,  3,  7],\n",
              "       [ 9, 19, 18],\n",
              "       [ 4,  6, 12],\n",
              "       [ 1,  6,  7]])"
            ]
          },
          "metadata": {},
          "execution_count": 80
        }
      ]
    },
    {
      "cell_type": "code",
      "source": [
        "import pandas as pd \n",
        "week_sale=pd.DataFrame(sale,index=[\"Mon\",\"Tue\",\"Wed\",\"Thu\",\"Fri\"],\n",
        "                columns=[\"Chuối\",\"Xoài\",\"Dừa\"])\n",
        "week_sale"
      ],
      "metadata": {
        "id": "GbkQ02rUTygz",
        "outputId": "e91af7c8-6b8b-4a4b-99e5-29cae837bb6e",
        "colab": {
          "base_uri": "https://localhost:8080/",
          "height": 206
        }
      },
      "execution_count": 83,
      "outputs": [
        {
          "output_type": "execute_result",
          "data": {
            "text/plain": [
              "     Chuối  Xoài  Dừa\n",
              "Mon     12    15    0\n",
              "Tue      3     3    7\n",
              "Wed      9    19   18\n",
              "Thu      4     6   12\n",
              "Fri      1     6    7"
            ],
            "text/html": [
              "\n",
              "  <div id=\"df-59bf0d85-7f84-4c31-97a8-2caaa0066664\">\n",
              "    <div class=\"colab-df-container\">\n",
              "      <div>\n",
              "<style scoped>\n",
              "    .dataframe tbody tr th:only-of-type {\n",
              "        vertical-align: middle;\n",
              "    }\n",
              "\n",
              "    .dataframe tbody tr th {\n",
              "        vertical-align: top;\n",
              "    }\n",
              "\n",
              "    .dataframe thead th {\n",
              "        text-align: right;\n",
              "    }\n",
              "</style>\n",
              "<table border=\"1\" class=\"dataframe\">\n",
              "  <thead>\n",
              "    <tr style=\"text-align: right;\">\n",
              "      <th></th>\n",
              "      <th>Chuối</th>\n",
              "      <th>Xoài</th>\n",
              "      <th>Dừa</th>\n",
              "    </tr>\n",
              "  </thead>\n",
              "  <tbody>\n",
              "    <tr>\n",
              "      <th>Mon</th>\n",
              "      <td>12</td>\n",
              "      <td>15</td>\n",
              "      <td>0</td>\n",
              "    </tr>\n",
              "    <tr>\n",
              "      <th>Tue</th>\n",
              "      <td>3</td>\n",
              "      <td>3</td>\n",
              "      <td>7</td>\n",
              "    </tr>\n",
              "    <tr>\n",
              "      <th>Wed</th>\n",
              "      <td>9</td>\n",
              "      <td>19</td>\n",
              "      <td>18</td>\n",
              "    </tr>\n",
              "    <tr>\n",
              "      <th>Thu</th>\n",
              "      <td>4</td>\n",
              "      <td>6</td>\n",
              "      <td>12</td>\n",
              "    </tr>\n",
              "    <tr>\n",
              "      <th>Fri</th>\n",
              "      <td>1</td>\n",
              "      <td>6</td>\n",
              "      <td>7</td>\n",
              "    </tr>\n",
              "  </tbody>\n",
              "</table>\n",
              "</div>\n",
              "      <button class=\"colab-df-convert\" onclick=\"convertToInteractive('df-59bf0d85-7f84-4c31-97a8-2caaa0066664')\"\n",
              "              title=\"Convert this dataframe to an interactive table.\"\n",
              "              style=\"display:none;\">\n",
              "        \n",
              "  <svg xmlns=\"http://www.w3.org/2000/svg\" height=\"24px\"viewBox=\"0 0 24 24\"\n",
              "       width=\"24px\">\n",
              "    <path d=\"M0 0h24v24H0V0z\" fill=\"none\"/>\n",
              "    <path d=\"M18.56 5.44l.94 2.06.94-2.06 2.06-.94-2.06-.94-.94-2.06-.94 2.06-2.06.94zm-11 1L8.5 8.5l.94-2.06 2.06-.94-2.06-.94L8.5 2.5l-.94 2.06-2.06.94zm10 10l.94 2.06.94-2.06 2.06-.94-2.06-.94-.94-2.06-.94 2.06-2.06.94z\"/><path d=\"M17.41 7.96l-1.37-1.37c-.4-.4-.92-.59-1.43-.59-.52 0-1.04.2-1.43.59L10.3 9.45l-7.72 7.72c-.78.78-.78 2.05 0 2.83L4 21.41c.39.39.9.59 1.41.59.51 0 1.02-.2 1.41-.59l7.78-7.78 2.81-2.81c.8-.78.8-2.07 0-2.86zM5.41 20L4 18.59l7.72-7.72 1.47 1.35L5.41 20z\"/>\n",
              "  </svg>\n",
              "      </button>\n",
              "      \n",
              "  <style>\n",
              "    .colab-df-container {\n",
              "      display:flex;\n",
              "      flex-wrap:wrap;\n",
              "      gap: 12px;\n",
              "    }\n",
              "\n",
              "    .colab-df-convert {\n",
              "      background-color: #E8F0FE;\n",
              "      border: none;\n",
              "      border-radius: 50%;\n",
              "      cursor: pointer;\n",
              "      display: none;\n",
              "      fill: #1967D2;\n",
              "      height: 32px;\n",
              "      padding: 0 0 0 0;\n",
              "      width: 32px;\n",
              "    }\n",
              "\n",
              "    .colab-df-convert:hover {\n",
              "      background-color: #E2EBFA;\n",
              "      box-shadow: 0px 1px 2px rgba(60, 64, 67, 0.3), 0px 1px 3px 1px rgba(60, 64, 67, 0.15);\n",
              "      fill: #174EA6;\n",
              "    }\n",
              "\n",
              "    [theme=dark] .colab-df-convert {\n",
              "      background-color: #3B4455;\n",
              "      fill: #D2E3FC;\n",
              "    }\n",
              "\n",
              "    [theme=dark] .colab-df-convert:hover {\n",
              "      background-color: #434B5C;\n",
              "      box-shadow: 0px 1px 3px 1px rgba(0, 0, 0, 0.15);\n",
              "      filter: drop-shadow(0px 1px 2px rgba(0, 0, 0, 0.3));\n",
              "      fill: #FFFFFF;\n",
              "    }\n",
              "  </style>\n",
              "\n",
              "      <script>\n",
              "        const buttonEl =\n",
              "          document.querySelector('#df-59bf0d85-7f84-4c31-97a8-2caaa0066664 button.colab-df-convert');\n",
              "        buttonEl.style.display =\n",
              "          google.colab.kernel.accessAllowed ? 'block' : 'none';\n",
              "\n",
              "        async function convertToInteractive(key) {\n",
              "          const element = document.querySelector('#df-59bf0d85-7f84-4c31-97a8-2caaa0066664');\n",
              "          const dataTable =\n",
              "            await google.colab.kernel.invokeFunction('convertToInteractive',\n",
              "                                                     [key], {});\n",
              "          if (!dataTable) return;\n",
              "\n",
              "          const docLinkHtml = 'Like what you see? Visit the ' +\n",
              "            '<a target=\"_blank\" href=https://colab.research.google.com/notebooks/data_table.ipynb>data table notebook</a>'\n",
              "            + ' to learn more about interactive tables.';\n",
              "          element.innerHTML = '';\n",
              "          dataTable['output_type'] = 'display_data';\n",
              "          await google.colab.output.renderOutput(dataTable, element);\n",
              "          const docLink = document.createElement('div');\n",
              "          docLink.innerHTML = docLinkHtml;\n",
              "          element.appendChild(docLink);\n",
              "        }\n",
              "      </script>\n",
              "    </div>\n",
              "  </div>\n",
              "  "
            ]
          },
          "metadata": {},
          "execution_count": 83
        }
      ]
    },
    {
      "cell_type": "code",
      "source": [
        "# Tạo giá tiền \n",
        "gia=np.array([6,5,10])\n",
        "gia_sp=pd.DataFrame(gia.reshape(1,3) ,index=[\"Giá\"],columns=[\"Chuối\",\"Xoài\",\"Dừa\"])\n",
        "gia_sp"
      ],
      "metadata": {
        "id": "l4jd6_zdUq24",
        "outputId": "89927aed-eec5-4527-e670-20cd524e05b9",
        "colab": {
          "base_uri": "https://localhost:8080/",
          "height": 81
        }
      },
      "execution_count": 86,
      "outputs": [
        {
          "output_type": "execute_result",
          "data": {
            "text/plain": [
              "     Chuối  Xoài  Dừa\n",
              "Giá      6     5   10"
            ],
            "text/html": [
              "\n",
              "  <div id=\"df-e786ca26-b331-4ed1-b726-59f3ecc1a97c\">\n",
              "    <div class=\"colab-df-container\">\n",
              "      <div>\n",
              "<style scoped>\n",
              "    .dataframe tbody tr th:only-of-type {\n",
              "        vertical-align: middle;\n",
              "    }\n",
              "\n",
              "    .dataframe tbody tr th {\n",
              "        vertical-align: top;\n",
              "    }\n",
              "\n",
              "    .dataframe thead th {\n",
              "        text-align: right;\n",
              "    }\n",
              "</style>\n",
              "<table border=\"1\" class=\"dataframe\">\n",
              "  <thead>\n",
              "    <tr style=\"text-align: right;\">\n",
              "      <th></th>\n",
              "      <th>Chuối</th>\n",
              "      <th>Xoài</th>\n",
              "      <th>Dừa</th>\n",
              "    </tr>\n",
              "  </thead>\n",
              "  <tbody>\n",
              "    <tr>\n",
              "      <th>Giá</th>\n",
              "      <td>6</td>\n",
              "      <td>5</td>\n",
              "      <td>10</td>\n",
              "    </tr>\n",
              "  </tbody>\n",
              "</table>\n",
              "</div>\n",
              "      <button class=\"colab-df-convert\" onclick=\"convertToInteractive('df-e786ca26-b331-4ed1-b726-59f3ecc1a97c')\"\n",
              "              title=\"Convert this dataframe to an interactive table.\"\n",
              "              style=\"display:none;\">\n",
              "        \n",
              "  <svg xmlns=\"http://www.w3.org/2000/svg\" height=\"24px\"viewBox=\"0 0 24 24\"\n",
              "       width=\"24px\">\n",
              "    <path d=\"M0 0h24v24H0V0z\" fill=\"none\"/>\n",
              "    <path d=\"M18.56 5.44l.94 2.06.94-2.06 2.06-.94-2.06-.94-.94-2.06-.94 2.06-2.06.94zm-11 1L8.5 8.5l.94-2.06 2.06-.94-2.06-.94L8.5 2.5l-.94 2.06-2.06.94zm10 10l.94 2.06.94-2.06 2.06-.94-2.06-.94-.94-2.06-.94 2.06-2.06.94z\"/><path d=\"M17.41 7.96l-1.37-1.37c-.4-.4-.92-.59-1.43-.59-.52 0-1.04.2-1.43.59L10.3 9.45l-7.72 7.72c-.78.78-.78 2.05 0 2.83L4 21.41c.39.39.9.59 1.41.59.51 0 1.02-.2 1.41-.59l7.78-7.78 2.81-2.81c.8-.78.8-2.07 0-2.86zM5.41 20L4 18.59l7.72-7.72 1.47 1.35L5.41 20z\"/>\n",
              "  </svg>\n",
              "      </button>\n",
              "      \n",
              "  <style>\n",
              "    .colab-df-container {\n",
              "      display:flex;\n",
              "      flex-wrap:wrap;\n",
              "      gap: 12px;\n",
              "    }\n",
              "\n",
              "    .colab-df-convert {\n",
              "      background-color: #E8F0FE;\n",
              "      border: none;\n",
              "      border-radius: 50%;\n",
              "      cursor: pointer;\n",
              "      display: none;\n",
              "      fill: #1967D2;\n",
              "      height: 32px;\n",
              "      padding: 0 0 0 0;\n",
              "      width: 32px;\n",
              "    }\n",
              "\n",
              "    .colab-df-convert:hover {\n",
              "      background-color: #E2EBFA;\n",
              "      box-shadow: 0px 1px 2px rgba(60, 64, 67, 0.3), 0px 1px 3px 1px rgba(60, 64, 67, 0.15);\n",
              "      fill: #174EA6;\n",
              "    }\n",
              "\n",
              "    [theme=dark] .colab-df-convert {\n",
              "      background-color: #3B4455;\n",
              "      fill: #D2E3FC;\n",
              "    }\n",
              "\n",
              "    [theme=dark] .colab-df-convert:hover {\n",
              "      background-color: #434B5C;\n",
              "      box-shadow: 0px 1px 3px 1px rgba(0, 0, 0, 0.15);\n",
              "      filter: drop-shadow(0px 1px 2px rgba(0, 0, 0, 0.3));\n",
              "      fill: #FFFFFF;\n",
              "    }\n",
              "  </style>\n",
              "\n",
              "      <script>\n",
              "        const buttonEl =\n",
              "          document.querySelector('#df-e786ca26-b331-4ed1-b726-59f3ecc1a97c button.colab-df-convert');\n",
              "        buttonEl.style.display =\n",
              "          google.colab.kernel.accessAllowed ? 'block' : 'none';\n",
              "\n",
              "        async function convertToInteractive(key) {\n",
              "          const element = document.querySelector('#df-e786ca26-b331-4ed1-b726-59f3ecc1a97c');\n",
              "          const dataTable =\n",
              "            await google.colab.kernel.invokeFunction('convertToInteractive',\n",
              "                                                     [key], {});\n",
              "          if (!dataTable) return;\n",
              "\n",
              "          const docLinkHtml = 'Like what you see? Visit the ' +\n",
              "            '<a target=\"_blank\" href=https://colab.research.google.com/notebooks/data_table.ipynb>data table notebook</a>'\n",
              "            + ' to learn more about interactive tables.';\n",
              "          element.innerHTML = '';\n",
              "          dataTable['output_type'] = 'display_data';\n",
              "          await google.colab.output.renderOutput(dataTable, element);\n",
              "          const docLink = document.createElement('div');\n",
              "          docLink.innerHTML = docLinkHtml;\n",
              "          element.appendChild(docLink);\n",
              "        }\n",
              "      </script>\n",
              "    </div>\n",
              "  </div>\n",
              "  "
            ]
          },
          "metadata": {},
          "execution_count": 86
        }
      ]
    },
    {
      "cell_type": "code",
      "source": [
        "week_sale.shape,gia_sp.T.shape"
      ],
      "metadata": {
        "id": "thdUU3fsVxw1",
        "outputId": "db056f27-ea29-4680-858b-a87bec915424",
        "colab": {
          "base_uri": "https://localhost:8080/"
        }
      },
      "execution_count": 88,
      "outputs": [
        {
          "output_type": "execute_result",
          "data": {
            "text/plain": [
              "((5, 3), (3, 1))"
            ]
          },
          "metadata": {},
          "execution_count": 88
        }
      ]
    },
    {
      "cell_type": "code",
      "source": [
        "total_gia=week_sale.dot(gia_sp.T)\n",
        "total_gia"
      ],
      "metadata": {
        "id": "J5gEnOA6V8OY",
        "outputId": "a31ff191-adac-4ff3-c7b2-761d764ede4c",
        "colab": {
          "base_uri": "https://localhost:8080/",
          "height": 206
        }
      },
      "execution_count": 90,
      "outputs": [
        {
          "output_type": "execute_result",
          "data": {
            "text/plain": [
              "     Giá\n",
              "Mon  147\n",
              "Tue  103\n",
              "Wed  329\n",
              "Thu  174\n",
              "Fri  106"
            ],
            "text/html": [
              "\n",
              "  <div id=\"df-060ad82d-e3ba-4f6e-a041-6b8eadcfb943\">\n",
              "    <div class=\"colab-df-container\">\n",
              "      <div>\n",
              "<style scoped>\n",
              "    .dataframe tbody tr th:only-of-type {\n",
              "        vertical-align: middle;\n",
              "    }\n",
              "\n",
              "    .dataframe tbody tr th {\n",
              "        vertical-align: top;\n",
              "    }\n",
              "\n",
              "    .dataframe thead th {\n",
              "        text-align: right;\n",
              "    }\n",
              "</style>\n",
              "<table border=\"1\" class=\"dataframe\">\n",
              "  <thead>\n",
              "    <tr style=\"text-align: right;\">\n",
              "      <th></th>\n",
              "      <th>Giá</th>\n",
              "    </tr>\n",
              "  </thead>\n",
              "  <tbody>\n",
              "    <tr>\n",
              "      <th>Mon</th>\n",
              "      <td>147</td>\n",
              "    </tr>\n",
              "    <tr>\n",
              "      <th>Tue</th>\n",
              "      <td>103</td>\n",
              "    </tr>\n",
              "    <tr>\n",
              "      <th>Wed</th>\n",
              "      <td>329</td>\n",
              "    </tr>\n",
              "    <tr>\n",
              "      <th>Thu</th>\n",
              "      <td>174</td>\n",
              "    </tr>\n",
              "    <tr>\n",
              "      <th>Fri</th>\n",
              "      <td>106</td>\n",
              "    </tr>\n",
              "  </tbody>\n",
              "</table>\n",
              "</div>\n",
              "      <button class=\"colab-df-convert\" onclick=\"convertToInteractive('df-060ad82d-e3ba-4f6e-a041-6b8eadcfb943')\"\n",
              "              title=\"Convert this dataframe to an interactive table.\"\n",
              "              style=\"display:none;\">\n",
              "        \n",
              "  <svg xmlns=\"http://www.w3.org/2000/svg\" height=\"24px\"viewBox=\"0 0 24 24\"\n",
              "       width=\"24px\">\n",
              "    <path d=\"M0 0h24v24H0V0z\" fill=\"none\"/>\n",
              "    <path d=\"M18.56 5.44l.94 2.06.94-2.06 2.06-.94-2.06-.94-.94-2.06-.94 2.06-2.06.94zm-11 1L8.5 8.5l.94-2.06 2.06-.94-2.06-.94L8.5 2.5l-.94 2.06-2.06.94zm10 10l.94 2.06.94-2.06 2.06-.94-2.06-.94-.94-2.06-.94 2.06-2.06.94z\"/><path d=\"M17.41 7.96l-1.37-1.37c-.4-.4-.92-.59-1.43-.59-.52 0-1.04.2-1.43.59L10.3 9.45l-7.72 7.72c-.78.78-.78 2.05 0 2.83L4 21.41c.39.39.9.59 1.41.59.51 0 1.02-.2 1.41-.59l7.78-7.78 2.81-2.81c.8-.78.8-2.07 0-2.86zM5.41 20L4 18.59l7.72-7.72 1.47 1.35L5.41 20z\"/>\n",
              "  </svg>\n",
              "      </button>\n",
              "      \n",
              "  <style>\n",
              "    .colab-df-container {\n",
              "      display:flex;\n",
              "      flex-wrap:wrap;\n",
              "      gap: 12px;\n",
              "    }\n",
              "\n",
              "    .colab-df-convert {\n",
              "      background-color: #E8F0FE;\n",
              "      border: none;\n",
              "      border-radius: 50%;\n",
              "      cursor: pointer;\n",
              "      display: none;\n",
              "      fill: #1967D2;\n",
              "      height: 32px;\n",
              "      padding: 0 0 0 0;\n",
              "      width: 32px;\n",
              "    }\n",
              "\n",
              "    .colab-df-convert:hover {\n",
              "      background-color: #E2EBFA;\n",
              "      box-shadow: 0px 1px 2px rgba(60, 64, 67, 0.3), 0px 1px 3px 1px rgba(60, 64, 67, 0.15);\n",
              "      fill: #174EA6;\n",
              "    }\n",
              "\n",
              "    [theme=dark] .colab-df-convert {\n",
              "      background-color: #3B4455;\n",
              "      fill: #D2E3FC;\n",
              "    }\n",
              "\n",
              "    [theme=dark] .colab-df-convert:hover {\n",
              "      background-color: #434B5C;\n",
              "      box-shadow: 0px 1px 3px 1px rgba(0, 0, 0, 0.15);\n",
              "      filter: drop-shadow(0px 1px 2px rgba(0, 0, 0, 0.3));\n",
              "      fill: #FFFFFF;\n",
              "    }\n",
              "  </style>\n",
              "\n",
              "      <script>\n",
              "        const buttonEl =\n",
              "          document.querySelector('#df-060ad82d-e3ba-4f6e-a041-6b8eadcfb943 button.colab-df-convert');\n",
              "        buttonEl.style.display =\n",
              "          google.colab.kernel.accessAllowed ? 'block' : 'none';\n",
              "\n",
              "        async function convertToInteractive(key) {\n",
              "          const element = document.querySelector('#df-060ad82d-e3ba-4f6e-a041-6b8eadcfb943');\n",
              "          const dataTable =\n",
              "            await google.colab.kernel.invokeFunction('convertToInteractive',\n",
              "                                                     [key], {});\n",
              "          if (!dataTable) return;\n",
              "\n",
              "          const docLinkHtml = 'Like what you see? Visit the ' +\n",
              "            '<a target=\"_blank\" href=https://colab.research.google.com/notebooks/data_table.ipynb>data table notebook</a>'\n",
              "            + ' to learn more about interactive tables.';\n",
              "          element.innerHTML = '';\n",
              "          dataTable['output_type'] = 'display_data';\n",
              "          await google.colab.output.renderOutput(dataTable, element);\n",
              "          const docLink = document.createElement('div');\n",
              "          docLink.innerHTML = docLinkHtml;\n",
              "          element.appendChild(docLink);\n",
              "        }\n",
              "      </script>\n",
              "    </div>\n",
              "  </div>\n",
              "  "
            ]
          },
          "metadata": {},
          "execution_count": 90
        }
      ]
    },
    {
      "cell_type": "code",
      "source": [
        "week_sale[\"Total Giá\"]=total_gia\n",
        "week_sale"
      ],
      "metadata": {
        "id": "0o3PSdAcV8jK",
        "outputId": "559c7d18-53c7-4e1f-f389-ea431ac8f0c3",
        "colab": {
          "base_uri": "https://localhost:8080/",
          "height": 206
        }
      },
      "execution_count": 91,
      "outputs": [
        {
          "output_type": "execute_result",
          "data": {
            "text/plain": [
              "     Chuối  Xoài  Dừa  Total Giá\n",
              "Mon     12    15    0        147\n",
              "Tue      3     3    7        103\n",
              "Wed      9    19   18        329\n",
              "Thu      4     6   12        174\n",
              "Fri      1     6    7        106"
            ],
            "text/html": [
              "\n",
              "  <div id=\"df-881e49eb-640d-49d8-bee9-b8b7f4ec23d0\">\n",
              "    <div class=\"colab-df-container\">\n",
              "      <div>\n",
              "<style scoped>\n",
              "    .dataframe tbody tr th:only-of-type {\n",
              "        vertical-align: middle;\n",
              "    }\n",
              "\n",
              "    .dataframe tbody tr th {\n",
              "        vertical-align: top;\n",
              "    }\n",
              "\n",
              "    .dataframe thead th {\n",
              "        text-align: right;\n",
              "    }\n",
              "</style>\n",
              "<table border=\"1\" class=\"dataframe\">\n",
              "  <thead>\n",
              "    <tr style=\"text-align: right;\">\n",
              "      <th></th>\n",
              "      <th>Chuối</th>\n",
              "      <th>Xoài</th>\n",
              "      <th>Dừa</th>\n",
              "      <th>Total Giá</th>\n",
              "    </tr>\n",
              "  </thead>\n",
              "  <tbody>\n",
              "    <tr>\n",
              "      <th>Mon</th>\n",
              "      <td>12</td>\n",
              "      <td>15</td>\n",
              "      <td>0</td>\n",
              "      <td>147</td>\n",
              "    </tr>\n",
              "    <tr>\n",
              "      <th>Tue</th>\n",
              "      <td>3</td>\n",
              "      <td>3</td>\n",
              "      <td>7</td>\n",
              "      <td>103</td>\n",
              "    </tr>\n",
              "    <tr>\n",
              "      <th>Wed</th>\n",
              "      <td>9</td>\n",
              "      <td>19</td>\n",
              "      <td>18</td>\n",
              "      <td>329</td>\n",
              "    </tr>\n",
              "    <tr>\n",
              "      <th>Thu</th>\n",
              "      <td>4</td>\n",
              "      <td>6</td>\n",
              "      <td>12</td>\n",
              "      <td>174</td>\n",
              "    </tr>\n",
              "    <tr>\n",
              "      <th>Fri</th>\n",
              "      <td>1</td>\n",
              "      <td>6</td>\n",
              "      <td>7</td>\n",
              "      <td>106</td>\n",
              "    </tr>\n",
              "  </tbody>\n",
              "</table>\n",
              "</div>\n",
              "      <button class=\"colab-df-convert\" onclick=\"convertToInteractive('df-881e49eb-640d-49d8-bee9-b8b7f4ec23d0')\"\n",
              "              title=\"Convert this dataframe to an interactive table.\"\n",
              "              style=\"display:none;\">\n",
              "        \n",
              "  <svg xmlns=\"http://www.w3.org/2000/svg\" height=\"24px\"viewBox=\"0 0 24 24\"\n",
              "       width=\"24px\">\n",
              "    <path d=\"M0 0h24v24H0V0z\" fill=\"none\"/>\n",
              "    <path d=\"M18.56 5.44l.94 2.06.94-2.06 2.06-.94-2.06-.94-.94-2.06-.94 2.06-2.06.94zm-11 1L8.5 8.5l.94-2.06 2.06-.94-2.06-.94L8.5 2.5l-.94 2.06-2.06.94zm10 10l.94 2.06.94-2.06 2.06-.94-2.06-.94-.94-2.06-.94 2.06-2.06.94z\"/><path d=\"M17.41 7.96l-1.37-1.37c-.4-.4-.92-.59-1.43-.59-.52 0-1.04.2-1.43.59L10.3 9.45l-7.72 7.72c-.78.78-.78 2.05 0 2.83L4 21.41c.39.39.9.59 1.41.59.51 0 1.02-.2 1.41-.59l7.78-7.78 2.81-2.81c.8-.78.8-2.07 0-2.86zM5.41 20L4 18.59l7.72-7.72 1.47 1.35L5.41 20z\"/>\n",
              "  </svg>\n",
              "      </button>\n",
              "      \n",
              "  <style>\n",
              "    .colab-df-container {\n",
              "      display:flex;\n",
              "      flex-wrap:wrap;\n",
              "      gap: 12px;\n",
              "    }\n",
              "\n",
              "    .colab-df-convert {\n",
              "      background-color: #E8F0FE;\n",
              "      border: none;\n",
              "      border-radius: 50%;\n",
              "      cursor: pointer;\n",
              "      display: none;\n",
              "      fill: #1967D2;\n",
              "      height: 32px;\n",
              "      padding: 0 0 0 0;\n",
              "      width: 32px;\n",
              "    }\n",
              "\n",
              "    .colab-df-convert:hover {\n",
              "      background-color: #E2EBFA;\n",
              "      box-shadow: 0px 1px 2px rgba(60, 64, 67, 0.3), 0px 1px 3px 1px rgba(60, 64, 67, 0.15);\n",
              "      fill: #174EA6;\n",
              "    }\n",
              "\n",
              "    [theme=dark] .colab-df-convert {\n",
              "      background-color: #3B4455;\n",
              "      fill: #D2E3FC;\n",
              "    }\n",
              "\n",
              "    [theme=dark] .colab-df-convert:hover {\n",
              "      background-color: #434B5C;\n",
              "      box-shadow: 0px 1px 3px 1px rgba(0, 0, 0, 0.15);\n",
              "      filter: drop-shadow(0px 1px 2px rgba(0, 0, 0, 0.3));\n",
              "      fill: #FFFFFF;\n",
              "    }\n",
              "  </style>\n",
              "\n",
              "      <script>\n",
              "        const buttonEl =\n",
              "          document.querySelector('#df-881e49eb-640d-49d8-bee9-b8b7f4ec23d0 button.colab-df-convert');\n",
              "        buttonEl.style.display =\n",
              "          google.colab.kernel.accessAllowed ? 'block' : 'none';\n",
              "\n",
              "        async function convertToInteractive(key) {\n",
              "          const element = document.querySelector('#df-881e49eb-640d-49d8-bee9-b8b7f4ec23d0');\n",
              "          const dataTable =\n",
              "            await google.colab.kernel.invokeFunction('convertToInteractive',\n",
              "                                                     [key], {});\n",
              "          if (!dataTable) return;\n",
              "\n",
              "          const docLinkHtml = 'Like what you see? Visit the ' +\n",
              "            '<a target=\"_blank\" href=https://colab.research.google.com/notebooks/data_table.ipynb>data table notebook</a>'\n",
              "            + ' to learn more about interactive tables.';\n",
              "          element.innerHTML = '';\n",
              "          dataTable['output_type'] = 'display_data';\n",
              "          await google.colab.output.renderOutput(dataTable, element);\n",
              "          const docLink = document.createElement('div');\n",
              "          docLink.innerHTML = docLinkHtml;\n",
              "          element.appendChild(docLink);\n",
              "        }\n",
              "      </script>\n",
              "    </div>\n",
              "  </div>\n",
              "  "
            ]
          },
          "metadata": {},
          "execution_count": 91
        }
      ]
    },
    {
      "cell_type": "code",
      "source": [
        "##Quay lại numpy ngẫu nhiên \n",
        "\n",
        "#Phân phối ngẫu nhiên\n",
        "#Phân phối ngẫu nhiên là một tập hợp các số ngẫu nhiên tuân theo một hàm mật độ xác suất nhất định .\n",
        "#Phương pháp choice() cho phép chúng ta chỉ định xác suất cho từng giá trị."
      ],
      "metadata": {
        "id": "-P_ASQyRW_6s"
      },
      "execution_count": null,
      "outputs": []
    },
    {
      "cell_type": "code",
      "source": [
        "from numpy import random\n",
        "x = random.choice([3, 5, 7, 9], p=[0.1, 0.3, 0.6, 0.0], size=(100)) # tỉ lệ ra 3 là 10% 5 là 30% 7 là 60% và 9 là 0%\n",
        "print(x)"
      ],
      "metadata": {
        "id": "2owYkMJfXAhW",
        "outputId": "d898eaa3-e241-488c-a0bc-88035e343914",
        "colab": {
          "base_uri": "https://localhost:8080/"
        }
      },
      "execution_count": 92,
      "outputs": [
        {
          "output_type": "stream",
          "name": "stdout",
          "text": [
            "[7 7 7 3 3 3 7 7 7 7 7 7 7 5 7 5 7 7 7 5 7 7 7 3 7 7 7 7 7 5 7 7 3 7 7 5 5\n",
            " 5 5 7 7 7 5 5 5 7 5 7 5 5 5 7 5 5 5 7 3 7 3 7 7 7 7 7 3 5 5 5 5 5 7 3 7 7\n",
            " 5 7 3 7 7 5 7 5 7 5 5 7 3 7 3 7 5 7 7 5 7 7 7 5 7 7]\n"
          ]
        }
      ]
    },
    {
      "cell_type": "code",
      "source": [
        "# Vd trên mảng 2 chiều \n",
        "x = random.choice([3, 5, 7, 9], p=[0.1, 0.3, 0.6, 0.0], size=(3, 5))\n",
        "print(x)"
      ],
      "metadata": {
        "id": "Qc4L-tPzYYjm",
        "outputId": "7ae3b68f-7c6b-4991-d358-1ed42a25da89",
        "colab": {
          "base_uri": "https://localhost:8080/"
        }
      },
      "execution_count": 93,
      "outputs": [
        {
          "output_type": "stream",
          "name": "stdout",
          "text": [
            "[[7 7 5 7 5]\n",
            " [7 7 7 7 7]\n",
            " [7 7 7 7 7]]\n"
          ]
        }
      ]
    },
    {
      "cell_type": "code",
      "source": [
        "# Sắp xếp ngẫu nhiên \n",
        "from numpy import random\n",
        "import numpy as np\n",
        "arr = np.array([1, 2, 3, 4, 5])\n",
        "random.shuffle(arr)\n",
        "print(arr)\n",
        "#Phương thức shuffle()thực hiện các thay đổi đối với mảng ban đầu."
      ],
      "metadata": {
        "id": "aEaf2rLLYmy7",
        "outputId": "93493e65-02fa-4eb3-fc41-466abef43338",
        "colab": {
          "base_uri": "https://localhost:8080/"
        }
      },
      "execution_count": 94,
      "outputs": [
        {
          "output_type": "stream",
          "name": "stdout",
          "text": [
            "[1 4 5 3 2]\n"
          ]
        }
      ]
    },
    {
      "cell_type": "code",
      "source": [
        "#Phương permutation()thức trả về một mảng được sắp xếp lại (và không thay đổi mảng ban đầu).\n",
        "arr = np.array([1, 2, 3, 4, 5])\n",
        "print(random.permutation(arr))"
      ],
      "metadata": {
        "id": "xL2KZtLWZCXl",
        "outputId": "d16696e7-c8e6-4d4b-cddd-62230c257a83",
        "colab": {
          "base_uri": "https://localhost:8080/"
        }
      },
      "execution_count": 96,
      "outputs": [
        {
          "output_type": "stream",
          "name": "stdout",
          "text": [
            "[3 4 2 5 1]\n"
          ]
        }
      ]
    }
  ]
}
